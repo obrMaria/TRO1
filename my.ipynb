{
 "cells": [
  {
   "cell_type": "markdown",
   "id": "94143678",
   "metadata": {},
   "source": [
    "задача по статистике"
   ]
  },
  {
   "cell_type": "markdown",
   "id": "fb1e2a99",
   "metadata": {},
   "source": [
    "коллекционер номеров\n",
    "семья заехала в отель с соверешенно разными номерами и разными условиями(темами).\n",
    "суть в том, что нельзя выбрать номер. очередной номер комнаты выбирается произвольно.\n",
    "цель семьи - побывать во всех номерах отеля."
   ]
  },
  {
   "cell_type": "markdown",
   "id": "da66c921",
   "metadata": {},
   "source": [
    "ВОПРОС\n",
    "сколько раз нужно приехать, чтобы побывать во всех номерах (есть вероятность заселения в один номер более одного раза)"
   ]
  },
  {
   "cell_type": "code",
   "execution_count": 1,
   "id": "71e989c8",
   "metadata": {},
   "outputs": [],
   "source": [
    "import random"
   ]
  },
  {
   "cell_type": "code",
   "execution_count": 5,
   "id": "032bc184",
   "metadata": {},
   "outputs": [
    {
     "name": "stdout",
     "output_type": "stream",
     "text": [
      "количество номеров отеля 1000\n"
     ]
    }
   ],
   "source": [
    "n = int(input('количество номеров отеля '))\n",
    "\n",
    "has_been_visited = {}\n",
    "all_count = ind_count = 0\n",
    "for i in range(n):\n",
    "    has_been_visited[i] = False"
   ]
  },
  {
   "cell_type": "code",
   "execution_count": 6,
   "id": "bfabd917",
   "metadata": {},
   "outputs": [
    {
     "name": "stdout",
     "output_type": "stream",
     "text": [
      "были просмотрены все номера отеля\n",
      "кол-во попыток =  6936\n"
     ]
    }
   ],
   "source": [
    "while ind_count < n:\n",
    "    num = random.randint(0, n-1)\n",
    "    if has_been_visited[num] == False:\n",
    "        ind_count += 1\n",
    "        has_been_visited[num] = True\n",
    "    all_count += 1\n",
    "\n",
    "print('были просмотрены все номера отеля')\n",
    "print('кол-во попыток = ', all_count)"
   ]
  }
 ],
 "metadata": {
  "kernelspec": {
   "display_name": "Python 3 (ipykernel)",
   "language": "python",
   "name": "python3"
  },
  "language_info": {
   "codemirror_mode": {
    "name": "ipython",
    "version": 3
   },
   "file_extension": ".py",
   "mimetype": "text/x-python",
   "name": "python",
   "nbconvert_exporter": "python",
   "pygments_lexer": "ipython3",
   "version": "3.9.13"
  }
 },
 "nbformat": 4,
 "nbformat_minor": 5
}
